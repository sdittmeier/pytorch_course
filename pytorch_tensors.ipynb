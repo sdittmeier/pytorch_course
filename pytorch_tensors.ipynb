{
 "cells": [
  {
   "cell_type": "code",
   "execution_count": 42,
   "metadata": {},
   "outputs": [],
   "source": [
    "import torch\n",
    "import numpy as np"
   ]
  },
  {
   "cell_type": "code",
   "execution_count": 43,
   "metadata": {},
   "outputs": [
    {
     "name": "stdout",
     "output_type": "stream",
     "text": [
      "Data Tensor: \n",
      "tensor([[1, 2],\n",
      "        [3, 4]]) \n",
      "\n",
      "From numpy array: \n",
      "tensor([[1, 2],\n",
      "        [3, 4]]) \n",
      "\n",
      "Random Tensor: \n",
      "tensor([[0.0137, 0.5346, 0.9524],\n",
      "        [0.5244, 0.2238, 0.3034]]) \n",
      "\n",
      "Ones Tensor: \n",
      "tensor([[1., 1., 1.],\n",
      "        [1., 1., 1.]]) \n",
      "\n",
      "Zeros Tensor: \n",
      "tensor([[0., 0., 0.],\n",
      "        [0., 0., 0.]]) \n",
      "\n",
      "Ones like x_data: \n",
      "tensor([[1, 1],\n",
      "        [1, 1]]) \n",
      "\n",
      "Random like x_data: \n",
      "tensor([[0.4354, 0.2588],\n",
      "        [0.2982, 0.3262]]) \n",
      "\n"
     ]
    }
   ],
   "source": [
    "# initialize a tensor from data\n",
    "data = [[1, 2],[3, 4]]\n",
    "x_data = torch.tensor(data)\n",
    "# initialize a tensor from a numpy array\n",
    "np_array = np.array(data)\n",
    "x_np = torch.from_numpy(np_array)\n",
    "# initialize a tensor with random or constant values\n",
    "shape = (2,3,)\n",
    "rand_tensor = torch.rand(shape)\n",
    "ones_tensor = torch.ones(shape)\n",
    "zeros_tensor = torch.zeros(shape)\n",
    "# initialize a tensor from another tensor\n",
    "x_ones = torch.ones_like(x_data) # retains the properties of x_data\n",
    "x_rand = torch.rand_like(x_data, dtype=torch.float) # overrides the datatype of x_data\n",
    "\n",
    "# print the tensors\n",
    "print(f\"Data Tensor: \\n{x_data} \\n\")\n",
    "print(f\"From numpy array: \\n{x_np} \\n\")\n",
    "print(f\"Random Tensor: \\n{rand_tensor} \\n\")\n",
    "print(f\"Ones Tensor: \\n{ones_tensor} \\n\")\n",
    "print(f\"Zeros Tensor: \\n{zeros_tensor} \\n\")\n",
    "print(f\"Ones like x_data: \\n{x_ones} \\n\")\n",
    "print(f\"Random like x_data: \\n{x_rand} \\n\")\n"
   ]
  },
  {
   "cell_type": "code",
   "execution_count": 44,
   "metadata": {},
   "outputs": [
    {
     "name": "stdout",
     "output_type": "stream",
     "text": [
      "Shape of tensor: torch.Size([3, 4])\n",
      "Datatype of tensor: torch.float32\n",
      "Device tensor is stored on: cpu\n"
     ]
    }
   ],
   "source": [
    "# Attributes of a Tensor\n",
    "tensor = torch.rand(3,4)\n",
    "\n",
    "print(f\"Shape of tensor: {tensor.shape}\")\n",
    "print(f\"Datatype of tensor: {tensor.dtype}\")\n",
    "print(f\"Device tensor is stored on: {tensor.device}\")\n"
   ]
  },
  {
   "cell_type": "code",
   "execution_count": 45,
   "metadata": {},
   "outputs": [
    {
     "name": "stdout",
     "output_type": "stream",
     "text": [
      "Device tensor is stored on: cpu \n",
      "\n",
      "tensor([[1., 2., 3.],\n",
      "        [1., 2., 3.],\n",
      "        [1., 2., 3.]])\n",
      "First row: tensor([1., 2., 3.])\n",
      "First column: tensor([1., 1., 1.])\n",
      "Last column: tensor([3., 3., 3.]) \n",
      "\n",
      "tensor([[1., 0., 3.],\n",
      "        [1., 0., 3.],\n",
      "        [1., 0., 3.]])\n",
      "\n",
      "\n"
     ]
    }
   ],
   "source": [
    "# Operations on tensors\n",
    "# Move the tensor to the GPU if available\n",
    "if torch.cuda.is_available():\n",
    "    tensor = tensor.to(\"cuda\")\n",
    "print(f\"Device tensor is stored on: {tensor.device} \\n\")\n",
    "\n",
    "# Standard numpy-like indexing and slicing\n",
    "tensor = torch.tensor([[1., 2., 3.], [1.,2.,3.], [1.,2.,3.]])\n",
    "print(tensor)\n",
    "print(f\"First row: {tensor[0]}\")\n",
    "print(f\"First column: {tensor[:, 0]}\")\n",
    "print(f\"Last column: {tensor[..., -1]} \\n\")\n",
    "tensor[:,1] = 0\n",
    "print(tensor)\n",
    "print('\\n')"
   ]
  },
  {
   "cell_type": "code",
   "execution_count": 46,
   "metadata": {},
   "outputs": [
    {
     "name": "stdout",
     "output_type": "stream",
     "text": [
      "Joining along existing dimension: \n",
      " tensor([[1., 0., 3.],\n",
      "        [1., 0., 3.],\n",
      "        [1., 0., 3.],\n",
      "        [1., 0., 3.],\n",
      "        [1., 0., 3.],\n",
      "        [1., 0., 3.]]) \n",
      "\n",
      "Joining along a new dimension:\n",
      " tensor([[[1., 0., 3.],\n",
      "         [1., 0., 3.],\n",
      "         [1., 0., 3.]],\n",
      "\n",
      "        [[1., 0., 3.],\n",
      "         [1., 0., 3.],\n",
      "         [1., 0., 3.]]])\n"
     ]
    }
   ],
   "source": [
    "# Joining tensors\n",
    "t1 = torch.cat([tensor, tensor], dim=0) # along existing dimension\n",
    "print(f\"Joining along existing dimension: \\n {t1} \\n\")\n",
    "t2 = torch.stack([tensor, tensor], dim=0) # creates a new dimension\n",
    "print(f\"Joining along a new dimension:\\n {t2}\")"
   ]
  },
  {
   "cell_type": "code",
   "execution_count": 47,
   "metadata": {},
   "outputs": [
    {
     "name": "stdout",
     "output_type": "stream",
     "text": [
      "y1 = tensor([[10., 10., 10.],\n",
      "        [10., 10., 10.],\n",
      "        [10., 10., 10.]]) \n",
      "y2 = tensor([[10., 10., 10.],\n",
      "        [10., 10., 10.],\n",
      "        [10., 10., 10.]]) \n",
      "y3 = tensor([[10., 10., 10.],\n",
      "        [10., 10., 10.],\n",
      "        [10., 10., 10.]])\n"
     ]
    }
   ],
   "source": [
    "# Arithmetic operations\n",
    "# Matrix multiplication between two tensors. y1, y2, y3 will have the same value\n",
    "# ``tensor.T`` returns the transpose of a tensor\n",
    "y1 = tensor @ tensor.T\n",
    "y2 = tensor.matmul(tensor.T)\n",
    "y3 = torch.rand_like(y1)\n",
    "torch.matmul(tensor, tensor.T, out=y3)\n",
    "print(f\"y1 = {y1} \\ny2 = {y2} \\ny3 = {y3}\")"
   ]
  },
  {
   "cell_type": "code",
   "execution_count": 48,
   "metadata": {},
   "outputs": [
    {
     "name": "stdout",
     "output_type": "stream",
     "text": [
      "z1 = tensor([[1., 0., 9.],\n",
      "        [1., 0., 9.],\n",
      "        [1., 0., 9.]]) \n",
      "z2 = tensor([[1., 0., 9.],\n",
      "        [1., 0., 9.],\n",
      "        [1., 0., 9.]]) \n",
      "z3 = tensor([[1., 0., 9.],\n",
      "        [1., 0., 9.],\n",
      "        [1., 0., 9.]])\n"
     ]
    }
   ],
   "source": [
    "# Element-wise product. z1, z2, z3 will have the same value\n",
    "z1 = tensor * tensor\n",
    "z2 = tensor.mul(tensor)\n",
    "\n",
    "z3 = torch.rand_like(tensor)\n",
    "torch.mul(tensor, tensor, out=z3)\n",
    "print(f\"z1 = {z1} \\nz2 = {z2} \\nz3 = {z3}\")\n"
   ]
  },
  {
   "cell_type": "code",
   "execution_count": 49,
   "metadata": {},
   "outputs": [
    {
     "name": "stdout",
     "output_type": "stream",
     "text": [
      "t: tensor([1., 1., 1., 1., 1.])\n",
      "n: [1. 1. 1. 1. 1.]\n",
      "\n",
      "t: tensor([2., 2., 2., 2., 2.])\n",
      "n: [2. 2. 2. 2. 2.]\n",
      "\n",
      "t: tensor([2., 2., 2., 2., 2.], dtype=torch.float64)\n",
      "n: [2. 2. 2. 2. 2.]\n"
     ]
    }
   ],
   "source": [
    "# Bridge with NumPy\n",
    "# Tensor to NumPy array\n",
    "t = torch.ones(5)\n",
    "print(f\"t: {t}\")\n",
    "n = t.numpy()\n",
    "print(f\"n: {n}\\n\")\n",
    "\n",
    "# A change in the tensor reflects in the NumPy array\n",
    "t.add_(1)   # in-place addition\n",
    "print(f\"t: {t}\")\n",
    "print(f\"n: {n}\\n\")\n",
    "\n",
    "# NumPy array to Tensor\n",
    "n = np.ones(5)\n",
    "t = torch.from_numpy(n)\n",
    "\n",
    "# Changes in the NumPy array reflects in the tensor\n",
    "np.add(n, 1, out=n)\n",
    "print(f\"t: {t}\")\n",
    "print(f\"n: {n}\")"
   ]
  }
 ],
 "metadata": {
  "kernelspec": {
   "display_name": "usr",
   "language": "python",
   "name": "python3"
  },
  "language_info": {
   "codemirror_mode": {
    "name": "ipython",
    "version": 3
   },
   "file_extension": ".py",
   "mimetype": "text/x-python",
   "name": "python",
   "nbconvert_exporter": "python",
   "pygments_lexer": "ipython3",
   "version": "3.13.1"
  }
 },
 "nbformat": 4,
 "nbformat_minor": 2
}
