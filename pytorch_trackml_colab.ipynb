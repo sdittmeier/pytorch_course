{
  "cells": [
    {
      "cell_type": "code",
      "execution_count": null,
      "metadata": {
        "colab": {
          "base_uri": "https://localhost:8080/"
        },
        "id": "BSZjUlH7gXJZ",
        "outputId": "3bc5e62c-2581-4174-dbd6-4b3c0e32642d"
      },
      "outputs": [],
      "source": [
        "# install trackml dependency from repository\n",
        "!pip install git+https://github.com/LAL/trackml-library"
      ]
    },
    {
      "cell_type": "code",
      "execution_count": null,
      "metadata": {
        "colab": {
          "base_uri": "https://localhost:8080/"
        },
        "id": "chPb8qkzmIIA",
        "outputId": "f56816d6-48af-457c-dd34-4d7ea9cd00db"
      },
      "outputs": [],
      "source": [
        "# download of zipped datasets\n",
        "!mkdir datasets\n",
        "!wget https://www.physi.uni-heidelberg.de/~dittmeier/pytorch/trackml_data/testset.zip\n",
        "!wget https://www.physi.uni-heidelberg.de/~dittmeier/pytorch/trackml_data/valset.zip\n",
        "!wget https://www.physi.uni-heidelberg.de/~dittmeier/pytorch/trackml_data/trainset.zip"
      ]
    },
    {
      "cell_type": "code",
      "execution_count": null,
      "metadata": {
        "colab": {
          "base_uri": "https://localhost:8080/"
        },
        "id": "Bv94RVzann3S",
        "outputId": "8b08f5fb-9ffe-4043-d67d-1ea7d8b3a71e"
      },
      "outputs": [],
      "source": [
        "# and unzip them into our datasets directory\n",
        "!unzip trainset.zip -d datasets\n",
        "!unzip valset.zip -d datasets\n",
        "!unzip testset.zip -d datasets"
      ]
    },
    {
      "cell_type": "code",
      "execution_count": null,
      "metadata": {
        "id": "Ae7iKaH-eAn2"
      },
      "outputs": [],
      "source": [
        "# Imports\n",
        "import torch\n",
        "from torch import nn\n",
        "from torch.utils.data import Dataset\n",
        "from torch.utils.data import DataLoader\n",
        "import trackml.dataset\n",
        "from trackml.utils import add_momentum_quantities\n",
        "import matplotlib.pyplot as plt\n",
        "import numpy as np\n"
      ]
    },
    {
      "cell_type": "code",
      "execution_count": null,
      "metadata": {
        "colab": {
          "base_uri": "https://localhost:8080/"
        },
        "id": "OhVul3xoeAn4",
        "outputId": "e905f03d-b392-4010-a0dd-45d028e65749"
      },
      "outputs": [],
      "source": [
        "# helper for GPU training\n",
        "device = torch.device('cuda' if torch.cuda.is_available() else 'cpu')\n",
        "print(device)\n",
        "\n",
        "def to_device(data, device):\n",
        "    \"\"\"Move tensor(s) to chosen device\"\"\"\n",
        "    if isinstance(data, (list,tuple)):\n",
        "        return [to_device(x, device) for x in data]\n",
        "    return data.to(device, non_blocking=True)"
      ]
    },
    {
      "cell_type": "code",
      "execution_count": null,
      "metadata": {
        "colab": {
          "base_uri": "https://localhost:8080/",
          "height": 1000
        },
        "id": "DhVfGYPCeAn4",
        "outputId": "c5497e44-4e10-4d2a-a3cd-740fa8f70abd"
      },
      "outputs": [],
      "source": [
        "# Data Visualization\n",
        "event_path = \"datasets/trainset/event000021000\"\n",
        "\n",
        "particles, hits, cells, truth = trackml.dataset.load_event(\n",
        "    event_path, parts=[\"particles\", \"hits\", \"cells\", \"truth\"]\n",
        ")\n",
        "\n",
        "print(truth.head())\n",
        "print(truth[\"particle_id\"].value_counts())\n",
        "\n",
        "# Create histograms for particles\n",
        "plt.figure(figsize=(12, 8))\n",
        "for i, column in enumerate(particles.columns):\n",
        "    plt.subplot(2, 5, i+1)\n",
        "    plt.hist(particles[column], bins=50)\n",
        "    plt.title(column)\n",
        "plt.tight_layout()\n",
        "plt.show()\n",
        "\n",
        "# Create histograms for hits\n",
        "plt.figure(figsize=(12, 8))\n",
        "for i, column in enumerate(hits.columns):\n",
        "    plt.subplot(2, 4, i+1)\n",
        "    plt.hist(hits[column], bins=50)\n",
        "    plt.title(column)\n",
        "plt.tight_layout()\n",
        "plt.show()\n",
        "\n",
        "# Create histograms for cells\n",
        "plt.figure(figsize=(12, 8))\n",
        "for i, column in enumerate(cells.columns):\n",
        "    plt.subplot(2, 3, i+1)\n",
        "    plt.hist(cells[column], bins=50)\n",
        "    plt.title(column)\n",
        "plt.tight_layout()\n",
        "plt.show()\n",
        "\n",
        "# Create histograms for truth\n",
        "plt.figure(figsize=(12, 8))\n",
        "for i, column in enumerate(truth.columns):\n",
        "    plt.subplot(2, 5, i+1)\n",
        "    plt.hist(truth[column], bins=50)\n",
        "    plt.title(column)\n",
        "plt.tight_layout()\n",
        "plt.show()\n"
      ]
    },
    {
      "cell_type": "code",
      "execution_count": null,
      "metadata": {
        "colab": {
          "base_uri": "https://localhost:8080/"
        },
        "id": "4ZkqCMirsvO2",
        "outputId": "7a6adeb5-adcc-4252-c2ea-27c4f4ee001f"
      },
      "outputs": [],
      "source": [
        "# more visualisation, setup for a 3D plot\n",
        "!pip install ipympl\n",
        "from mpl_toolkits.mplot3d import Axes3D\n",
        "from google.colab import output\n",
        "output.enable_custom_widget_manager()\n",
        "%matplotlib widget"
      ]
    },
    {
      "cell_type": "code",
      "execution_count": null,
      "metadata": {
        "colab": {
          "base_uri": "https://localhost:8080/",
          "height": 569,
          "referenced_widgets": [
            "3548762426254a4aa8ad5031bc7e249e",
            "dd8412c57fbe4719ae1476d5a6460acf",
            "9503eaae7f7a4135b46ee724f383a885",
            "b509f70ac4584a088fc7f5d6f433e922"
          ]
        },
        "id": "_XCEPS1etTWE",
        "outputId": "c22690e8-a534-4375-feed-f53d543e70a6"
      },
      "outputs": [],
      "source": [
        "# Creating a 3D scatter plot\n",
        "fig = plt.figure()\n",
        "ax = fig.add_subplot(111, projection='3d')\n",
        "hits_select = hits[hits.volume_id==8]\n",
        "ax.scatter(hits_select.x, hits_select.y, hits_select.z, c='r', marker='.')\n",
        "ax.set_xlabel('X')\n",
        "ax.set_ylabel('Y')\n",
        "ax.set_zlabel('Z')\n",
        "plt.show()\n"
      ]
    },
    {
      "cell_type": "code",
      "execution_count": null,
      "metadata": {
        "id": "IHVIB2imeAn5"
      },
      "outputs": [],
      "source": [
        "# Create a dataset, with a label for each hit, if hits have same particle_id set to 1, else -1\n",
        "# and an option to apply a cut on pT on the dataset\n",
        "\n",
        "class TrackMLDataset(Dataset):\n",
        "    def __init__(self, event_path, nevents=10, cuts=None):\n",
        "        self.event_path = event_path\n",
        "        self.nevents = nevents\n",
        "        self.event_ids = []\n",
        "        self.particles = []\n",
        "        self.hits = []\n",
        "        self.cells = []\n",
        "        self.truth = []\n",
        "        self.labels = []\n",
        "\n",
        "        for event_id, hits, cells, particles, truth in trackml.dataset.load_dataset(event_path, nevents=nevents):\n",
        "            particles = add_momentum_quantities(particles)\n",
        "            print(event_id)\n",
        "            if cuts is not None:\n",
        "                print(f\"Applying cuts: {cuts}\")\n",
        "                particles = particles[particles.pt >= cuts[\"pt\"]].reset_index(drop=True)\n",
        "                truth = truth[truth.particle_id.isin(particles.particle_id)].reset_index(drop=True)\n",
        "                hits  = hits[hits.hit_id.isin(truth.hit_id)].reset_index(drop=True)\n",
        "                cells = cells[cells.hit_id.isin(hits.hit_id)].reset_index(drop=True)\n",
        "\n",
        "            self.event_ids.append(event_id)\n",
        "            self.particles.append(particles)\n",
        "            self.hits.append(hits)\n",
        "            self.cells.append(cells)\n",
        "            self.truth.append(truth)\n",
        "\n",
        "            labels = np.full((len(truth), len(truth)), -1, dtype=np.int8)    # this is not memory friendly!!!\n",
        "            for particle_id, nhits in zip(particles.particle_id, particles.nhits):\n",
        "                particle_hits = truth[truth.particle_id == particle_id].index\n",
        "                for match in particle_hits:\n",
        "                    for match2 in particle_hits:\n",
        "                        labels[match, match2] = 1\n",
        "\n",
        "            # think about metric learning approach; make use of volumes and layers\n",
        "\n",
        "            self.labels.append(labels)\n",
        "\n",
        "    def __len__(self):\n",
        "        return len(self.event_ids)\n",
        "\n",
        "    def __getitem__(self, idx):\n",
        "        event_id = self.event_ids[idx]\n",
        "        particles = self.particles[idx]\n",
        "        hits = self.hits[idx]\n",
        "        cells = self.cells[idx]\n",
        "        truth = self.truth[idx]\n",
        "        labels = self.labels[idx]\n",
        "        return event_id, torch.tensor(particles.values, dtype=torch.float32), torch.tensor(hits.values, dtype=torch.float32), torch.tensor(cells.values, dtype=torch.float32), torch.tensor(truth.values, dtype=torch.float32), torch.from_numpy(labels).type(torch.int8)\n"
      ]
    },
    {
      "cell_type": "code",
      "execution_count": null,
      "metadata": {
        "colab": {
          "base_uri": "https://localhost:8080/",
          "height": 1000
        },
        "id": "SYXgOB1oeAn6",
        "outputId": "6ae7f11b-0025-437f-d362-d5523e987880"
      },
      "outputs": [],
      "source": [
        "# Loading the dataset\n",
        "print(\"Loading Trainset\")\n",
        "event_path = \"datasets/trainset\"\n",
        "training_data = TrackMLDataset(event_path, nevents=80, cuts={\"pt\": 2})\n",
        "print(\"Loading Valset\")\n",
        "event_path = \"datasets/valset\"\n",
        "val_data = TrackMLDataset(event_path, nevents=10, cuts={\"pt\": 2})\n",
        "print(\"Loading Testset\")\n",
        "event_path = \"datasets/testset\"\n",
        "test_data = TrackMLDataset(event_path, nevents=10, cuts={\"pt\": 2})"
      ]
    },
    {
      "cell_type": "code",
      "execution_count": 1,
      "metadata": {
        "colab": {
          "base_uri": "https://localhost:8080/"
        },
        "id": "sujNxWgieAn7",
        "outputId": "7bc82822-fef6-4356-8912-60f606bebbde"
      },
      "outputs": [
        {
          "ename": "NameError",
          "evalue": "name 'DataLoader' is not defined",
          "output_type": "error",
          "traceback": [
            "\u001b[0;31m---------------------------------------------------------------------------\u001b[0m",
            "\u001b[0;31mNameError\u001b[0m                                 Traceback (most recent call last)",
            "Cell \u001b[0;32mIn[1], line 3\u001b[0m\n\u001b[1;32m      1\u001b[0m \u001b[38;5;66;03m# Setting up DataLoader\u001b[39;00m\n\u001b[1;32m      2\u001b[0m batch_size \u001b[38;5;241m=\u001b[39m \u001b[38;5;241m1\u001b[39m\n\u001b[0;32m----> 3\u001b[0m train_dataloader \u001b[38;5;241m=\u001b[39m \u001b[43mDataLoader\u001b[49m(training_data, batch_size\u001b[38;5;241m=\u001b[39mbatch_size, shuffle\u001b[38;5;241m=\u001b[39m\u001b[38;5;28;01mTrue\u001b[39;00m)\n\u001b[1;32m      4\u001b[0m val_dataloader \u001b[38;5;241m=\u001b[39m DataLoader(val_data, batch_size\u001b[38;5;241m=\u001b[39mbatch_size, shuffle\u001b[38;5;241m=\u001b[39m\u001b[38;5;28;01mTrue\u001b[39;00m)\n\u001b[1;32m      5\u001b[0m test_dataloader \u001b[38;5;241m=\u001b[39m DataLoader(test_data, batch_size\u001b[38;5;241m=\u001b[39mbatch_size, shuffle\u001b[38;5;241m=\u001b[39m\u001b[38;5;28;01mTrue\u001b[39;00m)\n",
            "\u001b[0;31mNameError\u001b[0m: name 'DataLoader' is not defined"
          ]
        }
      ],
      "source": [
        "# Setting up DataLoader\n",
        "batch_size = 1\n",
        "train_dataloader = DataLoader(training_data, batch_size=batch_size, shuffle=True)\n",
        "val_dataloader = DataLoader(val_data, batch_size=batch_size, shuffle=True)\n",
        "test_dataloader = DataLoader(test_data, batch_size=batch_size, shuffle=True)\n",
        "\n",
        "# Getting a first test event\n",
        "event_id, particles, hits, cells, truth, labels = next(iter(train_dataloader))\n",
        "\n",
        "print(f\"event_id shape: {event_id.size()}; event_id data type: {event_id.dtype}\")\n",
        "print(f\"particles shape: {particles.size()}; particles data type: {particles.dtype}\")\n",
        "print(f\"hits shape: {hits.size()}; hits data type: {hits.dtype}\")\n",
        "print(f\"cells shape: {cells.size()}; cells data type: {cells.dtype}\")\n",
        "print(f\"truth shape: {truth.size()}; truth data type: {truth.dtype}\")\n",
        "print(f\"labels shape: {labels.size()}; labels data type: {labels.dtype}\")\n",
        "\n",
        "print(f\"event_id: {event_id.squeeze()}\")\n",
        "print(f\"hit coordinates: {hits.squeeze()[:,1:4]}\")    # x, y, z\n",
        "print(f\"labels: {labels.squeeze()}\")\n",
        "\n"
      ]
    },
    {
      "cell_type": "code",
      "execution_count": null,
      "metadata": {
        "id": "hH_-8WdMeAn7"
      },
      "outputs": [],
      "source": [
        "# Model definition\n",
        "class NeuralNetwork(nn.Module):\n",
        "    def __init__(self):\n",
        "        super().__init__()\n",
        "        self.linear_relu_stack = nn.Sequential( # Sequential container\n",
        "            nn.Linear(3, 128),\n",
        "            nn.ReLU(),\n",
        "            nn.Linear(128, 128),\n",
        "            nn.ReLU(),\n",
        "            nn.Linear(128, 8),\n",
        "        )\n",
        "\n",
        "    def forward(self, x):\n",
        "        y = self.linear_relu_stack(x)\n",
        "        return y\n",
        "\n",
        "# instantiates the model and sends it to GPU\n",
        "model = NeuralNetwork().to(device)"
      ]
    },
    {
      "cell_type": "code",
      "execution_count": null,
      "metadata": {
        "id": "8er3LmROeAn8"
      },
      "outputs": [],
      "source": [
        "learning_rate = 1e-3\n",
        "batch_size = batch_size\n",
        "epochs = 10\n",
        "margin = 1.0\n",
        "\n",
        "loss_fn = nn.HingeEmbeddingLoss(margin=margin)\n",
        "\n",
        "optimizer = torch.optim.Adam(model.parameters(), lr=learning_rate)"
      ]
    },
    {
      "cell_type": "code",
      "execution_count": null,
      "metadata": {
        "id": "vuROv0d6eAn-"
      },
      "outputs": [],
      "source": [
        "# loops over our optimization code\n",
        "def train_loop(dataloader, model, loss_fn, optimizer, device):\n",
        "    size = len(dataloader.dataset)\n",
        "    # Set the model to training mode - important for batch normalization and dropout layers\n",
        "    # Unnecessary in this situation but added for best practices\n",
        "    model.train()\n",
        "\n",
        "    for batch, [event_id, particles, hits, cells, truth, labels] in enumerate(dataloader):\n",
        "        # Send data to GPU\n",
        "        particles, hits, cells, truth, labels = to_device([particles, hits, cells, truth, labels], device)\n",
        "\n",
        "        embedding = model(hits.squeeze()[:,1:4])\n",
        "        distances = torch.cdist(embedding, embedding)\n",
        "\n",
        "        loss = loss_fn(distances, labels)\n",
        "\n",
        "        # Backpropagation\n",
        "        loss.backward()\n",
        "        optimizer.step()\n",
        "        optimizer.zero_grad()\n",
        "\n",
        "        if batch % 10 == 0:\n",
        "            loss, current = loss.item(), batch * batch_size + len(event_id)\n",
        "            print(f\"loss: {loss:>7f}  [{current:>5d}/{size:>5d}]\")\n",
        "\n",
        "        # Clear GPU memory\n",
        "        del event_id, particles, hits, cells, truth, embedding, distances, labels, loss\n",
        "        torch.cuda.empty_cache()\n",
        "\n"
      ]
    },
    {
      "cell_type": "code",
      "execution_count": null,
      "metadata": {
        "id": "0fB8p4bc78sc"
      },
      "outputs": [],
      "source": [
        "# we want to do a knn from scikit\n",
        "from sklearn.neighbors import NearestNeighbors\n",
        "\n",
        "def evaluate(embeddings, labels, knn, radius):\n",
        "  embeddings_cpu = embeddings.cpu().detach().numpy()\n",
        "\n",
        "  neigh = NearestNeighbors(n_neighbors=knn, radius=radius)\n",
        "  neigh.fit(embeddings_cpu)\n",
        "  distances, indices = neigh.kneighbors(embeddings_cpu)\n",
        "  #print(distances)\n",
        "  #print(indices)\n",
        "\n",
        "\n",
        "  positives = 0\n",
        "  negatives = 0\n",
        "\n",
        "  count_1 = torch.sum(labels == 1).item()-labels.size(dim=1)\n",
        "  \n",
        "\n",
        "  for ind, dist in zip(indices,distances):\n",
        "    # we can just check with labels, if knn and label = 1 --> match, -1 --> bad\n",
        "      valid_ind = ind[dist<radius]\n",
        "      positives += torch.sum(labels.squeeze()[valid_ind[0],valid_ind[1:]] == 1).item()\n",
        "      negatives += torch.sum(labels.squeeze()[valid_ind[0],valid_ind[1:]] == -1).item()\n",
        "  #print(f\"positives: {positives}; negatives: {negatives}; count_1: {count_1}\")\n",
        "  efficiency = positives/count_1\n",
        "  purity = positives/(positives + negatives)\n",
        "  return efficiency, purity"
      ]
    },
    {
      "cell_type": "code",
      "execution_count": null,
      "metadata": {
        "id": "ibBuaCi7eAn_"
      },
      "outputs": [],
      "source": [
        "# evaluate the model's performance against the test dataset\n",
        "def test_loop(dataloader, model, loss_fn, device, knn, radius):\n",
        "    # Set the model to evaluation mode - important for batch normalization and dropout layers\n",
        "    # Unnecessary in this situation but added for best practices\n",
        "    model.eval()\n",
        "    size = len(dataloader.dataset)\n",
        "    num_batches = len(dataloader)\n",
        "    test_loss, efficiency, purity = 0, 0, 0\n",
        "\n",
        "    # Evaluating the model with torch.no_grad() ensures that no gradients are computed during test mode\n",
        "    # also serves to reduce unnecessary gradient computations and memory usage for tensors with requires_grad=True\n",
        "    with torch.no_grad():\n",
        "        for event_id, particles, hits, cells, truth, labels  in dataloader:\n",
        "            # Send data to GPU\n",
        "            particles, hits, cells, truth, labels = to_device([particles, hits, cells, truth, labels], device)\n",
        "\n",
        "            embedding = model(hits.squeeze()[:,1:4])\n",
        "            distances = torch.cdist(embedding, embedding)\n",
        "\n",
        "            test_loss += loss_fn(distances, labels).item()\n",
        "\n",
        "            eff, pur = evaluate(embedding, labels, knn, radius)\n",
        "            efficiency += eff\n",
        "            purity += pur\n",
        "\n",
        "            del event_id, particles, hits, cells, truth, embedding, distances, labels\n",
        "            torch.cuda.empty_cache()\n",
        "\n",
        "    test_loss /= num_batches\n",
        "    efficiency /= num_batches\n",
        "    purity /= num_batches\n",
        "    print(f\"Test Error: \\n Avg loss: {test_loss:>8f} Efficiency: {efficiency:>8f} Purity: {purity:>8f} \\n\")\n",
        "    return test_loss, efficiency, purity"
      ]
    },
    {
      "cell_type": "code",
      "execution_count": null,
      "metadata": {
        "colab": {
          "base_uri": "https://localhost:8080/"
        },
        "id": "3B1kOEb7eAn_",
        "outputId": "7e46f6de-3bdd-4a5d-f9ab-ea907e81df9c"
      },
      "outputs": [],
      "source": [
        "loss = []\n",
        "eff  = []\n",
        "pur  = []\n",
        "knn = 21\n",
        "for t in range(epochs):\n",
        "    print(f\"Epoch {t+1}\\n-------------------------------\")\n",
        "    train_loop(train_dataloader, model, loss_fn, optimizer, device)\n",
        "    l,e,p = test_loop(val_dataloader, model, loss_fn, device, knn, margin)\n",
        "    loss.append(l)\n",
        "    eff.append(e)\n",
        "    pur.append(p)\n",
        "print(\"Done!\")\n",
        "new_res = [loss, eff, pur]\n"
      ]
    },
    {
      "cell_type": "code",
      "execution_count": null,
      "metadata": {
        "colab": {
          "base_uri": "https://localhost:8080/",
          "height": 1000,
          "referenced_widgets": [
            "eb18d1367377475b9140f966420c458f",
            "ba70d827dff940c0ad917c4d7e5cb3b3",
            "cdbd61c7b67c4a67bf811156123769de",
            "a65179078a744345ad318129683c159a",
            "8dda5dac93674062adec4300bcb49561",
            "19f0311748784f2bbb45d3d732a48b95",
            "d7b490b8b1a0429cb876637388bbc70e",
            "3a65b9afcee5467ca7c65f47cb28e78f",
            "52516aa98aed483491d0b04bc75e0dc6",
            "0343dd4dfd3e4157bafc8256e0e945a0",
            "928f79a4df7b406b90688e4581e3da8b",
            "449b8d66924e45cfbe9d97085a6c859b"
          ]
        },
        "id": "uFQFbPzbeAn_",
        "outputId": "10b851f9-5ade-4b28-f8af-8df7cda3cfce"
      },
      "outputs": [],
      "source": [
        "#for name, param in model.named_parameters():\n",
        "#    print(f\"Parameter name: {name}, Size: {param.size()}, Values: {param}\")\n",
        "\n",
        "# Assuming you have the `test_loss` variable containing the loss values for each epoch\n",
        "epochs_r = range(1, len(loss) + 1)\n",
        "for res, titles in zip (new_res, [\"Loss\", \"Efficiency\", \"Purity\"]):\n",
        "    print(res)\n",
        "    plt.figure(figsize=(6, 4))\n",
        "    plt.plot(epochs_r, res, 'b', label=titles)\n",
        "    plt.xlabel('Epoch')\n",
        "    plt.ylabel(titles)\n",
        "    plt.legend()\n",
        "    plt.show()\n"
      ]
    },
    {
      "cell_type": "code",
      "execution_count": null,
      "metadata": {
        "colab": {
          "base_uri": "https://localhost:8080/"
        },
        "id": "YuZ9Ji4aeAn_",
        "outputId": "7b7e84bd-9bad-4484-f3de-bf66cd3da9a7"
      },
      "outputs": [],
      "source": [
        "test_loop(test_dataloader, model, loss_fn, device, 50, margin)\n",
        "test_loop(test_dataloader, model, loss_fn, device, 100, margin)"
      ]
    }
  ],
  "metadata": {
    "accelerator": "GPU",
    "colab": {
      "gpuType": "T4",
      "include_colab_link": true,
      "provenance": []
    },
    "kernelspec": {
      "display_name": "Python 3",
      "name": "python3"
    },
    "language_info": {
      "codemirror_mode": {
        "name": "ipython",
        "version": 3
      },
      "file_extension": ".py",
      "mimetype": "text/x-python",
      "name": "python",
      "nbconvert_exporter": "python",
      "pygments_lexer": "ipython3",
      "version": "3.9.15"
    },
    "widgets": {
      "application/vnd.jupyter.widget-state+json": {
        "0343dd4dfd3e4157bafc8256e0e945a0": {
          "model_module": "@jupyter-widgets/base",
          "model_module_version": "1.2.0",
          "model_name": "LayoutModel",
          "state": {
            "_model_module": "@jupyter-widgets/base",
            "_model_module_version": "1.2.0",
            "_model_name": "LayoutModel",
            "_view_count": null,
            "_view_module": "@jupyter-widgets/base",
            "_view_module_version": "1.2.0",
            "_view_name": "LayoutView",
            "align_content": null,
            "align_items": null,
            "align_self": null,
            "border": null,
            "bottom": null,
            "display": null,
            "flex": null,
            "flex_flow": null,
            "grid_area": null,
            "grid_auto_columns": null,
            "grid_auto_flow": null,
            "grid_auto_rows": null,
            "grid_column": null,
            "grid_gap": null,
            "grid_row": null,
            "grid_template_areas": null,
            "grid_template_columns": null,
            "grid_template_rows": null,
            "height": null,
            "justify_content": null,
            "justify_items": null,
            "left": null,
            "margin": null,
            "max_height": null,
            "max_width": null,
            "min_height": null,
            "min_width": null,
            "object_fit": null,
            "object_position": null,
            "order": null,
            "overflow": null,
            "overflow_x": null,
            "overflow_y": null,
            "padding": null,
            "right": null,
            "top": null,
            "visibility": null,
            "width": null
          }
        },
        "19f0311748784f2bbb45d3d732a48b95": {
          "model_module": "@jupyter-widgets/base",
          "model_module_version": "1.2.0",
          "model_name": "LayoutModel",
          "state": {
            "_model_module": "@jupyter-widgets/base",
            "_model_module_version": "1.2.0",
            "_model_name": "LayoutModel",
            "_view_count": null,
            "_view_module": "@jupyter-widgets/base",
            "_view_module_version": "1.2.0",
            "_view_name": "LayoutView",
            "align_content": null,
            "align_items": null,
            "align_self": null,
            "border": null,
            "bottom": null,
            "display": null,
            "flex": null,
            "flex_flow": null,
            "grid_area": null,
            "grid_auto_columns": null,
            "grid_auto_flow": null,
            "grid_auto_rows": null,
            "grid_column": null,
            "grid_gap": null,
            "grid_row": null,
            "grid_template_areas": null,
            "grid_template_columns": null,
            "grid_template_rows": null,
            "height": null,
            "justify_content": null,
            "justify_items": null,
            "left": null,
            "margin": null,
            "max_height": null,
            "max_width": null,
            "min_height": null,
            "min_width": null,
            "object_fit": null,
            "object_position": null,
            "order": null,
            "overflow": null,
            "overflow_x": null,
            "overflow_y": null,
            "padding": null,
            "right": null,
            "top": null,
            "visibility": null,
            "width": null
          }
        },
        "3548762426254a4aa8ad5031bc7e249e": {
          "model_module": "jupyter-matplotlib",
          "model_module_version": "^0.11",
          "model_name": "MPLCanvasModel",
          "state": {
            "_cursor": "default",
            "_data_url": "data:image/png;base64,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",
            "_dom_classes": [],
            "_figure_label": "Figure 1",
            "_image_mode": "full",
            "_message": "",
            "_model_module": "jupyter-matplotlib",
            "_model_module_version": "^0.11",
            "_model_name": "MPLCanvasModel",
            "_rubberband_height": 0,
            "_rubberband_width": 0,
            "_rubberband_x": 0,
            "_rubberband_y": 0,
            "_size": [
              640,
              480
            ],
            "_view_count": null,
            "_view_module": "jupyter-matplotlib",
            "_view_module_version": "^0.11",
            "_view_name": "MPLCanvasView",
            "capture_scroll": false,
            "footer_visible": true,
            "header_visible": true,
            "layout": "IPY_MODEL_dd8412c57fbe4719ae1476d5a6460acf",
            "pan_zoom_throttle": 33,
            "resizable": true,
            "toolbar": "IPY_MODEL_9503eaae7f7a4135b46ee724f383a885",
            "toolbar_position": "left",
            "toolbar_visible": "fade-in-fade-out"
          }
        },
        "3a65b9afcee5467ca7c65f47cb28e78f": {
          "model_module": "jupyter-matplotlib",
          "model_module_version": "^0.11",
          "model_name": "MPLCanvasModel",
          "state": {
            "_cursor": "pointer",
            "_data_url": "data:image/png;base64,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",
            "_dom_classes": [],
            "_figure_label": "Figure 39",
            "_image_mode": "diff",
            "_message": "",
            "_model_module": "jupyter-matplotlib",
            "_model_module_version": "^0.11",
            "_model_name": "MPLCanvasModel",
            "_rubberband_height": 0,
            "_rubberband_width": 0,
            "_rubberband_x": 0,
            "_rubberband_y": 0,
            "_size": [
              600,
              400
            ],
            "_view_count": null,
            "_view_module": "jupyter-matplotlib",
            "_view_module_version": "^0.11",
            "_view_name": "MPLCanvasView",
            "capture_scroll": false,
            "footer_visible": true,
            "header_visible": true,
            "layout": "IPY_MODEL_8dda5dac93674062adec4300bcb49561",
            "pan_zoom_throttle": 33,
            "resizable": true,
            "toolbar": "IPY_MODEL_d7b490b8b1a0429cb876637388bbc70e",
            "toolbar_position": "left",
            "toolbar_visible": "fade-in-fade-out"
          }
        },
        "449b8d66924e45cfbe9d97085a6c859b": {
          "model_module": "jupyter-matplotlib",
          "model_module_version": "^0.11",
          "model_name": "ToolbarModel",
          "state": {
            "_current_action": "",
            "_dom_classes": [],
            "_model_module": "jupyter-matplotlib",
            "_model_module_version": "^0.11",
            "_model_name": "ToolbarModel",
            "_view_count": null,
            "_view_module": "jupyter-matplotlib",
            "_view_module_version": "^0.11",
            "_view_name": "ToolbarView",
            "button_style": "",
            "collapsed": true,
            "layout": "IPY_MODEL_0343dd4dfd3e4157bafc8256e0e945a0",
            "orientation": "vertical",
            "toolitems": [
              [
                "Home",
                "Reset original view",
                "home",
                "home"
              ],
              [
                "Back",
                "Back to previous view",
                "arrow-left",
                "back"
              ],
              [
                "Forward",
                "Forward to next view",
                "arrow-right",
                "forward"
              ],
              [
                "Pan",
                "Left button pans, Right button zooms\nx/y fixes axis, CTRL fixes aspect",
                "arrows",
                "pan"
              ],
              [
                "Zoom",
                "Zoom to rectangle\nx/y fixes axis",
                "square-o",
                "zoom"
              ],
              [
                "Download",
                "Download plot",
                "floppy-o",
                "save_figure"
              ]
            ]
          }
        },
        "52516aa98aed483491d0b04bc75e0dc6": {
          "model_module": "@jupyter-widgets/base",
          "model_module_version": "1.2.0",
          "model_name": "LayoutModel",
          "state": {
            "_model_module": "@jupyter-widgets/base",
            "_model_module_version": "1.2.0",
            "_model_name": "LayoutModel",
            "_view_count": null,
            "_view_module": "@jupyter-widgets/base",
            "_view_module_version": "1.2.0",
            "_view_name": "LayoutView",
            "align_content": null,
            "align_items": null,
            "align_self": null,
            "border": null,
            "bottom": null,
            "display": null,
            "flex": null,
            "flex_flow": null,
            "grid_area": null,
            "grid_auto_columns": null,
            "grid_auto_flow": null,
            "grid_auto_rows": null,
            "grid_column": null,
            "grid_gap": null,
            "grid_row": null,
            "grid_template_areas": null,
            "grid_template_columns": null,
            "grid_template_rows": null,
            "height": null,
            "justify_content": null,
            "justify_items": null,
            "left": null,
            "margin": null,
            "max_height": null,
            "max_width": null,
            "min_height": null,
            "min_width": null,
            "object_fit": null,
            "object_position": null,
            "order": null,
            "overflow": null,
            "overflow_x": null,
            "overflow_y": null,
            "padding": null,
            "right": null,
            "top": null,
            "visibility": null,
            "width": null
          }
        },
        "8dda5dac93674062adec4300bcb49561": {
          "model_module": "@jupyter-widgets/base",
          "model_module_version": "1.2.0",
          "model_name": "LayoutModel",
          "state": {
            "_model_module": "@jupyter-widgets/base",
            "_model_module_version": "1.2.0",
            "_model_name": "LayoutModel",
            "_view_count": null,
            "_view_module": "@jupyter-widgets/base",
            "_view_module_version": "1.2.0",
            "_view_name": "LayoutView",
            "align_content": null,
            "align_items": null,
            "align_self": null,
            "border": null,
            "bottom": null,
            "display": null,
            "flex": null,
            "flex_flow": null,
            "grid_area": null,
            "grid_auto_columns": null,
            "grid_auto_flow": null,
            "grid_auto_rows": null,
            "grid_column": null,
            "grid_gap": null,
            "grid_row": null,
            "grid_template_areas": null,
            "grid_template_columns": null,
            "grid_template_rows": null,
            "height": null,
            "justify_content": null,
            "justify_items": null,
            "left": null,
            "margin": null,
            "max_height": null,
            "max_width": null,
            "min_height": null,
            "min_width": null,
            "object_fit": null,
            "object_position": null,
            "order": null,
            "overflow": null,
            "overflow_x": null,
            "overflow_y": null,
            "padding": null,
            "right": null,
            "top": null,
            "visibility": null,
            "width": null
          }
        },
        "928f79a4df7b406b90688e4581e3da8b": {
          "model_module": "jupyter-matplotlib",
          "model_module_version": "^0.11",
          "model_name": "MPLCanvasModel",
          "state": {
            "_cursor": "pointer",
            "_data_url": "data:image/png;base64,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",
            "_dom_classes": [],
            "_figure_label": "Figure 40",
            "_image_mode": "diff",
            "_message": "",
            "_model_module": "jupyter-matplotlib",
            "_model_module_version": "^0.11",
            "_model_name": "MPLCanvasModel",
            "_rubberband_height": 0,
            "_rubberband_width": 0,
            "_rubberband_x": 0,
            "_rubberband_y": 0,
            "_size": [
              600,
              400
            ],
            "_view_count": null,
            "_view_module": "jupyter-matplotlib",
            "_view_module_version": "^0.11",
            "_view_name": "MPLCanvasView",
            "capture_scroll": false,
            "footer_visible": true,
            "header_visible": true,
            "layout": "IPY_MODEL_52516aa98aed483491d0b04bc75e0dc6",
            "pan_zoom_throttle": 33,
            "resizable": true,
            "toolbar": "IPY_MODEL_449b8d66924e45cfbe9d97085a6c859b",
            "toolbar_position": "left",
            "toolbar_visible": "fade-in-fade-out"
          }
        },
        "9503eaae7f7a4135b46ee724f383a885": {
          "model_module": "jupyter-matplotlib",
          "model_module_version": "^0.11",
          "model_name": "ToolbarModel",
          "state": {
            "_current_action": "",
            "_dom_classes": [],
            "_model_module": "jupyter-matplotlib",
            "_model_module_version": "^0.11",
            "_model_name": "ToolbarModel",
            "_view_count": null,
            "_view_module": "jupyter-matplotlib",
            "_view_module_version": "^0.11",
            "_view_name": "ToolbarView",
            "button_style": "",
            "collapsed": true,
            "layout": "IPY_MODEL_b509f70ac4584a088fc7f5d6f433e922",
            "orientation": "vertical",
            "toolitems": [
              [
                "Home",
                "Reset original view",
                "home",
                "home"
              ],
              [
                "Back",
                "Back to previous view",
                "arrow-left",
                "back"
              ],
              [
                "Forward",
                "Forward to next view",
                "arrow-right",
                "forward"
              ],
              [
                "Pan",
                "Left button pans, Right button zooms\nx/y fixes axis, CTRL fixes aspect",
                "arrows",
                "pan"
              ],
              [
                "Zoom",
                "Zoom to rectangle\nx/y fixes axis",
                "square-o",
                "zoom"
              ],
              [
                "Download",
                "Download plot",
                "floppy-o",
                "save_figure"
              ]
            ]
          }
        },
        "a65179078a744345ad318129683c159a": {
          "model_module": "@jupyter-widgets/base",
          "model_module_version": "1.2.0",
          "model_name": "LayoutModel",
          "state": {
            "_model_module": "@jupyter-widgets/base",
            "_model_module_version": "1.2.0",
            "_model_name": "LayoutModel",
            "_view_count": null,
            "_view_module": "@jupyter-widgets/base",
            "_view_module_version": "1.2.0",
            "_view_name": "LayoutView",
            "align_content": null,
            "align_items": null,
            "align_self": null,
            "border": null,
            "bottom": null,
            "display": null,
            "flex": null,
            "flex_flow": null,
            "grid_area": null,
            "grid_auto_columns": null,
            "grid_auto_flow": null,
            "grid_auto_rows": null,
            "grid_column": null,
            "grid_gap": null,
            "grid_row": null,
            "grid_template_areas": null,
            "grid_template_columns": null,
            "grid_template_rows": null,
            "height": null,
            "justify_content": null,
            "justify_items": null,
            "left": null,
            "margin": null,
            "max_height": null,
            "max_width": null,
            "min_height": null,
            "min_width": null,
            "object_fit": null,
            "object_position": null,
            "order": null,
            "overflow": null,
            "overflow_x": null,
            "overflow_y": null,
            "padding": null,
            "right": null,
            "top": null,
            "visibility": null,
            "width": null
          }
        },
        "b509f70ac4584a088fc7f5d6f433e922": {
          "model_module": "@jupyter-widgets/base",
          "model_module_version": "1.2.0",
          "model_name": "LayoutModel",
          "state": {
            "_model_module": "@jupyter-widgets/base",
            "_model_module_version": "1.2.0",
            "_model_name": "LayoutModel",
            "_view_count": null,
            "_view_module": "@jupyter-widgets/base",
            "_view_module_version": "1.2.0",
            "_view_name": "LayoutView",
            "align_content": null,
            "align_items": null,
            "align_self": null,
            "border": null,
            "bottom": null,
            "display": null,
            "flex": null,
            "flex_flow": null,
            "grid_area": null,
            "grid_auto_columns": null,
            "grid_auto_flow": null,
            "grid_auto_rows": null,
            "grid_column": null,
            "grid_gap": null,
            "grid_row": null,
            "grid_template_areas": null,
            "grid_template_columns": null,
            "grid_template_rows": null,
            "height": null,
            "justify_content": null,
            "justify_items": null,
            "left": null,
            "margin": null,
            "max_height": null,
            "max_width": null,
            "min_height": null,
            "min_width": null,
            "object_fit": null,
            "object_position": null,
            "order": null,
            "overflow": null,
            "overflow_x": null,
            "overflow_y": null,
            "padding": null,
            "right": null,
            "top": null,
            "visibility": null,
            "width": null
          }
        },
        "ba70d827dff940c0ad917c4d7e5cb3b3": {
          "model_module": "@jupyter-widgets/base",
          "model_module_version": "1.2.0",
          "model_name": "LayoutModel",
          "state": {
            "_model_module": "@jupyter-widgets/base",
            "_model_module_version": "1.2.0",
            "_model_name": "LayoutModel",
            "_view_count": null,
            "_view_module": "@jupyter-widgets/base",
            "_view_module_version": "1.2.0",
            "_view_name": "LayoutView",
            "align_content": null,
            "align_items": null,
            "align_self": null,
            "border": null,
            "bottom": null,
            "display": null,
            "flex": null,
            "flex_flow": null,
            "grid_area": null,
            "grid_auto_columns": null,
            "grid_auto_flow": null,
            "grid_auto_rows": null,
            "grid_column": null,
            "grid_gap": null,
            "grid_row": null,
            "grid_template_areas": null,
            "grid_template_columns": null,
            "grid_template_rows": null,
            "height": null,
            "justify_content": null,
            "justify_items": null,
            "left": null,
            "margin": null,
            "max_height": null,
            "max_width": null,
            "min_height": null,
            "min_width": null,
            "object_fit": null,
            "object_position": null,
            "order": null,
            "overflow": null,
            "overflow_x": null,
            "overflow_y": null,
            "padding": null,
            "right": null,
            "top": null,
            "visibility": null,
            "width": null
          }
        },
        "cdbd61c7b67c4a67bf811156123769de": {
          "model_module": "jupyter-matplotlib",
          "model_module_version": "^0.11",
          "model_name": "ToolbarModel",
          "state": {
            "_current_action": "",
            "_dom_classes": [],
            "_model_module": "jupyter-matplotlib",
            "_model_module_version": "^0.11",
            "_model_name": "ToolbarModel",
            "_view_count": null,
            "_view_module": "jupyter-matplotlib",
            "_view_module_version": "^0.11",
            "_view_name": "ToolbarView",
            "button_style": "",
            "collapsed": true,
            "layout": "IPY_MODEL_a65179078a744345ad318129683c159a",
            "orientation": "vertical",
            "toolitems": [
              [
                "Home",
                "Reset original view",
                "home",
                "home"
              ],
              [
                "Back",
                "Back to previous view",
                "arrow-left",
                "back"
              ],
              [
                "Forward",
                "Forward to next view",
                "arrow-right",
                "forward"
              ],
              [
                "Pan",
                "Left button pans, Right button zooms\nx/y fixes axis, CTRL fixes aspect",
                "arrows",
                "pan"
              ],
              [
                "Zoom",
                "Zoom to rectangle\nx/y fixes axis",
                "square-o",
                "zoom"
              ],
              [
                "Download",
                "Download plot",
                "floppy-o",
                "save_figure"
              ]
            ]
          }
        },
        "d7b490b8b1a0429cb876637388bbc70e": {
          "model_module": "jupyter-matplotlib",
          "model_module_version": "^0.11",
          "model_name": "ToolbarModel",
          "state": {
            "_current_action": "",
            "_dom_classes": [],
            "_model_module": "jupyter-matplotlib",
            "_model_module_version": "^0.11",
            "_model_name": "ToolbarModel",
            "_view_count": null,
            "_view_module": "jupyter-matplotlib",
            "_view_module_version": "^0.11",
            "_view_name": "ToolbarView",
            "button_style": "",
            "collapsed": true,
            "layout": "IPY_MODEL_19f0311748784f2bbb45d3d732a48b95",
            "orientation": "vertical",
            "toolitems": [
              [
                "Home",
                "Reset original view",
                "home",
                "home"
              ],
              [
                "Back",
                "Back to previous view",
                "arrow-left",
                "back"
              ],
              [
                "Forward",
                "Forward to next view",
                "arrow-right",
                "forward"
              ],
              [
                "Pan",
                "Left button pans, Right button zooms\nx/y fixes axis, CTRL fixes aspect",
                "arrows",
                "pan"
              ],
              [
                "Zoom",
                "Zoom to rectangle\nx/y fixes axis",
                "square-o",
                "zoom"
              ],
              [
                "Download",
                "Download plot",
                "floppy-o",
                "save_figure"
              ]
            ]
          }
        },
        "dd8412c57fbe4719ae1476d5a6460acf": {
          "model_module": "@jupyter-widgets/base",
          "model_module_version": "1.2.0",
          "model_name": "LayoutModel",
          "state": {
            "_model_module": "@jupyter-widgets/base",
            "_model_module_version": "1.2.0",
            "_model_name": "LayoutModel",
            "_view_count": null,
            "_view_module": "@jupyter-widgets/base",
            "_view_module_version": "1.2.0",
            "_view_name": "LayoutView",
            "align_content": null,
            "align_items": null,
            "align_self": null,
            "border": null,
            "bottom": null,
            "display": null,
            "flex": null,
            "flex_flow": null,
            "grid_area": null,
            "grid_auto_columns": null,
            "grid_auto_flow": null,
            "grid_auto_rows": null,
            "grid_column": null,
            "grid_gap": null,
            "grid_row": null,
            "grid_template_areas": null,
            "grid_template_columns": null,
            "grid_template_rows": null,
            "height": null,
            "justify_content": null,
            "justify_items": null,
            "left": null,
            "margin": null,
            "max_height": null,
            "max_width": null,
            "min_height": null,
            "min_width": null,
            "object_fit": null,
            "object_position": null,
            "order": null,
            "overflow": null,
            "overflow_x": null,
            "overflow_y": null,
            "padding": null,
            "right": null,
            "top": null,
            "visibility": null,
            "width": null
          }
        },
        "eb18d1367377475b9140f966420c458f": {
          "model_module": "jupyter-matplotlib",
          "model_module_version": "^0.11",
          "model_name": "MPLCanvasModel",
          "state": {
            "_cursor": "default",
            "_data_url": "data:image/png;base64,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",
            "_dom_classes": [],
            "_figure_label": "Figure 38",
            "_image_mode": "full",
            "_message": "",
            "_model_module": "jupyter-matplotlib",
            "_model_module_version": "^0.11",
            "_model_name": "MPLCanvasModel",
            "_rubberband_height": 0,
            "_rubberband_width": 0,
            "_rubberband_x": 0,
            "_rubberband_y": 0,
            "_size": [
              600,
              400
            ],
            "_view_count": null,
            "_view_module": "jupyter-matplotlib",
            "_view_module_version": "^0.11",
            "_view_name": "MPLCanvasView",
            "capture_scroll": false,
            "footer_visible": true,
            "header_visible": true,
            "layout": "IPY_MODEL_ba70d827dff940c0ad917c4d7e5cb3b3",
            "pan_zoom_throttle": 33,
            "resizable": true,
            "toolbar": "IPY_MODEL_cdbd61c7b67c4a67bf811156123769de",
            "toolbar_position": "left",
            "toolbar_visible": "fade-in-fade-out"
          }
        }
      }
    }
  },
  "nbformat": 4,
  "nbformat_minor": 0
}
